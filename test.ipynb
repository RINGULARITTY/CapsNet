{
 "cells": [
  {
   "cell_type": "code",
   "execution_count": null,
   "metadata": {},
   "outputs": [],
   "source": [
    "from capsnet.model import load_model\n",
    "\n",
    "model, params = load_model(\"main\")\n",
    "model"
   ]
  },
  {
   "cell_type": "code",
   "execution_count": null,
   "metadata": {},
   "outputs": [],
   "source": [
    "import torch\n",
    "from capsnet.dataset_helper import load_test_dataset\n",
    "\n",
    "device = torch.device(\"cuda\" if torch.cuda.is_available() else \"cpu\")\n",
    "\n",
    "model = model.to(device)\n",
    "\n",
    "dataset_name = \"NEU Metal Surface Defects Data\"\n",
    "test_dataset, test_loader = load_test_dataset(img_size=params[\"input_size\"])"
   ]
  },
  {
   "cell_type": "code",
   "execution_count": null,
   "metadata": {},
   "outputs": [],
   "source": [
    "from capsnet.evaluation_helper import evaluate_model, visualize_model_performances\n",
    "\n",
    "cm, global_accuracy, per_class_accuracy, classif_report = evaluate_model(model, test_loader, device, test_dataset.classes)\n",
    "visualize_model_performances(cm, global_accuracy, per_class_accuracy, classif_report, test_dataset.classes)"
   ]
  },
  {
   "cell_type": "code",
   "execution_count": null,
   "metadata": {},
   "outputs": [],
   "source": [
    "from capsnet.explicability_helper import visualize_high_contrast_explanations_for_all_classes\n",
    "\n",
    "target_layer_names = [\"conv_layers.0\", \"conv_layers.3\", \"conv_layers.6\", \"primary_capsules.conv\"]\n",
    "\n",
    "visualize_high_contrast_explanations_for_all_classes(model, test_dataset, device, target_layer_names)"
   ]
  },
  {
   "cell_type": "code",
   "execution_count": null,
   "metadata": {},
   "outputs": [],
   "source": [
    "import importlib\n",
    "import capsnet.explicability_helper\n",
    "\n",
    "importlib.reload(capsnet.explicability_helper)"
   ]
  },
  {
   "cell_type": "code",
   "execution_count": null,
   "metadata": {},
   "outputs": [],
   "source": [
    "from capsnet.explicability_helper import visualize_explanations_for_specific_class\n",
    "\n",
    "visualize_explanations_for_specific_class(\n",
    "    model=model, \n",
    "    dataset=test_dataset, \n",
    "    device=device,\n",
    "    target_layer_names=target_layer_names, \n",
    "    class_name=\"Crazing\", \n",
    "    image_amount=5,\n",
    "    seed=42\n",
    ")"
   ]
  },
  {
   "cell_type": "code",
   "execution_count": null,
   "metadata": {},
   "outputs": [],
   "source": [
    "visualize_explanations_for_specific_class(\n",
    "    model=model,\n",
    "    dataset=test_dataset, \n",
    "    device=device,\n",
    "    target_layer_names=target_layer_names, \n",
    "    class_name=\"Inclusion\", \n",
    "    image_amount=5,\n",
    "    seed=42\n",
    ")"
   ]
  }
 ],
 "metadata": {
  "kernelspec": {
   "display_name": "model_train",
   "language": "python",
   "name": "python3"
  },
  "language_info": {
   "codemirror_mode": {
    "name": "ipython",
    "version": 3
   },
   "file_extension": ".py",
   "mimetype": "text/x-python",
   "name": "python",
   "nbconvert_exporter": "python",
   "pygments_lexer": "ipython3",
   "version": "3.12.5"
  }
 },
 "nbformat": 4,
 "nbformat_minor": 2
}
