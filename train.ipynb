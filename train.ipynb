{
 "cells": [
  {
   "cell_type": "code",
   "execution_count": null,
   "metadata": {},
   "outputs": [],
   "source": [
    "from capsnet.fine_tuning_helper import load_study\n",
    "\n",
    "study_name = \"main\"\n",
    "study = load_study(study_name)"
   ]
  },
  {
   "cell_type": "code",
   "execution_count": null,
   "metadata": {},
   "outputs": [],
   "source": [
    "try:\n",
    "    display(study.best_value)\n",
    "    display(study.best_params)\n",
    "except:\n",
    "    print(\"Empty Study\")"
   ]
  },
  {
   "cell_type": "code",
   "execution_count": null,
   "metadata": {},
   "outputs": [],
   "source": [
    "from capsnet.dataset_helper import load_raw_datasets\n",
    "\n",
    "train_dataset_raw, val_dataset_raw, test_dataset_raw = load_raw_datasets()"
   ]
  },
  {
   "cell_type": "code",
   "execution_count": null,
   "metadata": {},
   "outputs": [],
   "source": [
    "from capsnet.fine_tuning_helper import objective, save_study\n",
    "from capsnet.dataset_helper import CacheLoader\n",
    "import torch\n",
    "\n",
    "device = torch.device(\"cuda\" if torch.cuda.is_available() else \"cpu\")\n",
    "cache_loader = CacheLoader(train_dataset_raw, val_dataset_raw)\n",
    "\n",
    "study.optimize(\n",
    "    lambda trial: objective(trial, 15, device, cache_loader),\n",
    "    n_trials=10\n",
    ")\n",
    "\n",
    "save_study(study_name, study)"
   ]
  },
  {
   "cell_type": "code",
   "execution_count": null,
   "metadata": {},
   "outputs": [],
   "source": [
    "display(study.best_value)\n",
    "display(study.best_params)"
   ]
  },
  {
   "cell_type": "code",
   "execution_count": null,
   "metadata": {},
   "outputs": [],
   "source": [
    "from capsnet.fine_tuning_helper import study_to_model_params\n",
    "from capsnet.model import CapsNet\n",
    "from capsnet.train_helper import train_capsnet\n",
    "\n",
    "device = torch.device(\"cuda\" if torch.cuda.is_available() else \"cpu\")\n",
    "\n",
    "model_best_params, alpha, lr = study_to_model_params(study.best_params, conv_channels=[64, 128, 256], num_classes=6, capsule_out_dim=16)\n",
    "\n",
    "train_loader, val_loader = cache_loader.get_or_create_cache(model_best_params[\"input_size\"])\n",
    "\n",
    "best_model = CapsNet(**model_best_params).to(device)\n",
    "\n",
    "best_model_trained, top3_f1_avg = train_capsnet(best_model, train_loader, val_loader, device, epochs=20, alpha=alpha, lr=lr, progress=True)"
   ]
  },
  {
   "cell_type": "code",
   "execution_count": null,
   "metadata": {},
   "outputs": [],
   "source": [
    "from capsnet.model import save_model\n",
    "\n",
    "save_model(best_model_trained, model_best_params, \"main\")"
   ]
  }
 ],
 "metadata": {
  "kernelspec": {
   "display_name": "model_train",
   "language": "python",
   "name": "python3"
  },
  "language_info": {
   "codemirror_mode": {
    "name": "ipython",
    "version": 3
   },
   "file_extension": ".py",
   "mimetype": "text/x-python",
   "name": "python",
   "nbconvert_exporter": "python",
   "pygments_lexer": "ipython3",
   "version": "3.12.5"
  }
 },
 "nbformat": 4,
 "nbformat_minor": 2
}
